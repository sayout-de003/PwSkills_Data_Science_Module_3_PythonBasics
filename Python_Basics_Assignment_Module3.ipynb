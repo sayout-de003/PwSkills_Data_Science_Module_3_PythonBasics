{
  "nbformat": 4,
  "nbformat_minor": 0,
  "metadata": {
    "colab": {
      "provenance": []
    },
    "kernelspec": {
      "name": "python3",
      "display_name": "Python 3"
    },
    "language_info": {
      "name": "python"
    }
  },
  "cells": [
    {
      "cell_type": "markdown",
      "source": [
        "1. What is Python, and why is it popular?\n",
        "\n",
        "  Ans: Python is a high-level, interpreted programming language known for its simplicity and readability. It supports multiple programming paradigms, including object-oriented, procedural, and functional programming.\n",
        "\n",
        "  Reasons for popularity:\n",
        "  \n",
        "  1. Easy to read syntex, similarity with natural language.\n",
        "\n",
        "  2. Flexible and versetile can be used in web development(Django,flask),\n",
        "  can be used in gaming(Pygame) and mostly in Data Science it is very much useful with too many library support(Numpy, Pandas,Matplotlib, Tensorflow, Pythorch) etc.\n",
        "\n",
        "  3. Too many Standard Library make it easy to work for Scientists and mathematicians.\n",
        "  4. Large Community, Cross PLatform Support, Continuous development etc.\n",
        "\n",
        "\n"
      ],
      "metadata": {
        "id": "o79lWivXl5gP"
      }
    },
    {
      "cell_type": "markdown",
      "source": [
        "2. What is an interpreter in Python?\n",
        "\n",
        "  Ans: An interpreter is a program that executes Python code line-by-line, translating it into machine code at runtime. Unlike compilers, it doesn’t generate a separate executable file. Python’s default interpreter is CPython, which interprets Python code into bytecode executed by the Python Virtual Machine (PVM)."
      ],
      "metadata": {
        "id": "_NnX4LBeoGJz"
      }
    },
    {
      "cell_type": "markdown",
      "source": [
        "3. What are pre-defined keywords in Python?\n",
        "\n",
        "Ans : Pre-defined keywords (or reserved words) are terms with special meanings in Python, used to define syntax and structure. Examples include if, else, for, while, def, class, import, try, except, True, False, None, etc. Python 3.11 has 35 keywords."
      ],
      "metadata": {
        "id": "gUPD3SHxoYnI"
      }
    },
    {
      "cell_type": "markdown",
      "source": [
        "4. Can keywords be used as variable names?\n",
        "\n",
        "  Ans: No, keywords cannot be used as variable names because they are reserved for Python’s syntax."
      ],
      "metadata": {
        "id": "gG_ME7lkopc0"
      }
    },
    {
      "cell_type": "code",
      "source": [
        "is = 5 // will give error"
      ],
      "metadata": {
        "colab": {
          "base_uri": "https://localhost:8080/",
          "height": 124
        },
        "id": "9LEkr6j2trxI",
        "outputId": "367513e2-3690-488a-e16b-9813015e0dcc"
      },
      "execution_count": null,
      "outputs": [
        {
          "output_type": "error",
          "ename": "SyntaxError",
          "evalue": "invalid syntax (ipython-input-8-183809358.py, line 1)",
          "traceback": [
            "\u001b[0;36m  File \u001b[0;32m\"/tmp/ipython-input-8-183809358.py\"\u001b[0;36m, line \u001b[0;32m1\u001b[0m\n\u001b[0;31m    is = 5\u001b[0m\n\u001b[0m    ^\u001b[0m\n\u001b[0;31mSyntaxError\u001b[0m\u001b[0;31m:\u001b[0m invalid syntax\n"
          ]
        }
      ]
    },
    {
      "cell_type": "markdown",
      "source": [
        "5. What is mutability in Python?\n",
        "\n",
        "  Ans: Mutability refers to an object’s ability to have its value or content changed after creation. Mutable objects (e.g., lists, dictionaries, sets) can be modified in place, while immutable objects (e.g., tuples, strings, integers) cannot."
      ],
      "metadata": {
        "id": "xS42pW9No1Qj"
      }
    },
    {
      "cell_type": "markdown",
      "source": [
        "6. Why are lists mutable, but tuples are immutable?\n",
        "\n",
        "  Ans:  Lists: Designed for flexibility, lists are mutable to allow dynamic     modifications (e.g., appending, removing, or changing elements). This makes them suitable for data that needs frequent updates.\n",
        "  \n",
        "  Tuples: Immutable to ensure data integrity and safety, often used for fixed collections of items (e.g., coordinates, database records). Immutability also makes tuples slightly more memory-efficient and usable as dictionary keys."
      ],
      "metadata": {
        "id": "cspsSi4rpebr"
      }
    },
    {
      "cell_type": "code",
      "source": [
        "# List: Mutable\n",
        "my_list = [1, 2, 3]\n",
        "print(\"First List: \", my_list)\n",
        "my_list[0] = 100\n",
        "my_list.append(4)\n",
        "print(\"Modified List:\", my_list)  # Output: [100, 2, 3, 4]\n",
        "\n"
      ],
      "metadata": {
        "colab": {
          "base_uri": "https://localhost:8080/"
        },
        "id": "vethpl-ixqgr",
        "outputId": "979fc2ea-73f1-4242-dbdd-7be168f01fba"
      },
      "execution_count": null,
      "outputs": [
        {
          "output_type": "stream",
          "name": "stdout",
          "text": [
            "First List:  [1, 2, 3]\n",
            "Modified List: [100, 2, 3, 4]\n"
          ]
        }
      ]
    },
    {
      "cell_type": "code",
      "source": [
        "\n",
        "# Tuple: Immutable\n",
        "my_tuple = (1, 2, 3)\n",
        "print(\"First Tuple: \", my_tuple)\n",
        "my_tuple[0] = 100\n",
        "print(\"Tuple remains unchanged:\", my_tuple)  # Output: (1, 2, 3)"
      ],
      "metadata": {
        "colab": {
          "base_uri": "https://localhost:8080/",
          "height": 225
        },
        "id": "DrTECc2mxxGw",
        "outputId": "73c758ac-8e84-4b70-94cf-1ac835377f99"
      },
      "execution_count": null,
      "outputs": [
        {
          "output_type": "stream",
          "name": "stdout",
          "text": [
            "First Tuple:  (1, 2, 3)\n"
          ]
        },
        {
          "output_type": "error",
          "ename": "TypeError",
          "evalue": "'tuple' object does not support item assignment",
          "traceback": [
            "\u001b[0;31m---------------------------------------------------------------------------\u001b[0m",
            "\u001b[0;31mTypeError\u001b[0m                                 Traceback (most recent call last)",
            "\u001b[0;32m/tmp/ipython-input-23-1608991733.py\u001b[0m in \u001b[0;36m<cell line: 0>\u001b[0;34m()\u001b[0m\n\u001b[1;32m      2\u001b[0m \u001b[0mmy_tuple\u001b[0m \u001b[0;34m=\u001b[0m \u001b[0;34m(\u001b[0m\u001b[0;36m1\u001b[0m\u001b[0;34m,\u001b[0m \u001b[0;36m2\u001b[0m\u001b[0;34m,\u001b[0m \u001b[0;36m3\u001b[0m\u001b[0;34m)\u001b[0m\u001b[0;34m\u001b[0m\u001b[0;34m\u001b[0m\u001b[0m\n\u001b[1;32m      3\u001b[0m \u001b[0mprint\u001b[0m\u001b[0;34m(\u001b[0m\u001b[0;34m\"First Tuple: \"\u001b[0m\u001b[0;34m,\u001b[0m \u001b[0mmy_tuple\u001b[0m\u001b[0;34m)\u001b[0m\u001b[0;34m\u001b[0m\u001b[0;34m\u001b[0m\u001b[0m\n\u001b[0;32m----> 4\u001b[0;31m \u001b[0mmy_tuple\u001b[0m\u001b[0;34m[\u001b[0m\u001b[0;36m0\u001b[0m\u001b[0;34m]\u001b[0m \u001b[0;34m=\u001b[0m \u001b[0;36m100\u001b[0m\u001b[0;34m\u001b[0m\u001b[0;34m\u001b[0m\u001b[0m\n\u001b[0m\u001b[1;32m      5\u001b[0m \u001b[0mprint\u001b[0m\u001b[0;34m(\u001b[0m\u001b[0;34m\"Tuple remains unchanged:\"\u001b[0m\u001b[0;34m,\u001b[0m \u001b[0mmy_tuple\u001b[0m\u001b[0;34m)\u001b[0m  \u001b[0;31m# Output: (1, 2, 3)\u001b[0m\u001b[0;34m\u001b[0m\u001b[0;34m\u001b[0m\u001b[0m\n",
            "\u001b[0;31mTypeError\u001b[0m: 'tuple' object does not support item assignment"
          ]
        }
      ]
    },
    {
      "cell_type": "markdown",
      "source": [
        "7. What is the difference between \"==\" and \"is\" operators in Python?\n",
        "\n",
        "Ans: While \"==\" operator checks for same value comparison , \"is\" checks for same object in memory. In short \"==\" checks value equality, \"is\" checks identity."
      ],
      "metadata": {
        "id": "wJRz8mugps7z"
      }
    },
    {
      "cell_type": "code",
      "source": [
        "a = [1]\n",
        "b = [1]\n",
        "print(a == b)  # True (same values)\n",
        "print(a is b)  # False (different objects)"
      ],
      "metadata": {
        "colab": {
          "base_uri": "https://localhost:8080/"
        },
        "id": "CBebjzKEquOl",
        "outputId": "8871e9df-a6f2-48f7-efe1-39846fc6ab9c"
      },
      "execution_count": null,
      "outputs": [
        {
          "output_type": "stream",
          "name": "stdout",
          "text": [
            "True\n",
            "False\n"
          ]
        }
      ]
    },
    {
      "cell_type": "markdown",
      "source": [
        "8. What are logical operators in Python?\n",
        "\n",
        "Ans: Logical Operatos returns True or False.\n",
        "      And: Return True if both operands are true. [follows multiplication].\n",
        "\n",
        "      Or: Return True if atleast one operand is True. [Follows Addition].\n",
        "\n",
        "      Not: Returns the opposite boolean value of the operand. [ multiply -1].\n",
        "\n"
      ],
      "metadata": {
        "id": "o0wkey37q5cy"
      }
    },
    {
      "cell_type": "markdown",
      "source": [
        "9. What is type casting in Python?\n",
        "\n",
        "Ans: Type casting is converting a variable from one data type to another (e.g., integer to string, float to integer). Python provides built-in functions like int(), float(), str(), list(), etc., for this purpose."
      ],
      "metadata": {
        "id": "5vR_dAQsszd6"
      }
    },
    {
      "cell_type": "code",
      "source": [
        "x = 5\n",
        "print(x > 3 and x < 10)  # True\n",
        "print(x < 3 or x > 4)    # True\n",
        "print(not x > 3)         # False"
      ],
      "metadata": {
        "colab": {
          "base_uri": "https://localhost:8080/"
        },
        "id": "HFHFPl3_qwwE",
        "outputId": "96fb9f8b-1cf0-4599-ad23-cb98ce312b0d"
      },
      "execution_count": null,
      "outputs": [
        {
          "output_type": "stream",
          "name": "stdout",
          "text": [
            "True\n",
            "True\n",
            "False\n"
          ]
        }
      ]
    },
    {
      "cell_type": "markdown",
      "source": [
        "10. What is the difference between implicit and explicit type casting?\n",
        "\n",
        "Ans: Implicit Type Casting: Python automatically converts one data type to another to prevent data loss (e.g., converting an integer to a float during arithmetic).\n",
        "\n",
        "  Explicit Type Casting: The programmer manually converts types using functions like int(), str(), etc."
      ],
      "metadata": {
        "id": "yXADKfVDshS6"
      }
    },
    {
      "cell_type": "code",
      "source": [
        "a = 5      # int\n",
        "b = 2.0    # float\n",
        "c = a + b  # c is float (7.0)\n",
        "print(type(a), type(b), type(c))\n",
        "\n",
        "a = \"123\"\n",
        "b = int(a)  # Converts string to integer (123)\n",
        "print(type(a), type(b))"
      ],
      "metadata": {
        "colab": {
          "base_uri": "https://localhost:8080/"
        },
        "id": "IfHs7XP4ssXf",
        "outputId": "b1ae0f9c-5824-4879-835f-e55ec20a2c6b"
      },
      "execution_count": null,
      "outputs": [
        {
          "output_type": "stream",
          "name": "stdout",
          "text": [
            "<class 'int'> <class 'float'> <class 'float'>\n",
            "<class 'str'> <class 'int'>\n"
          ]
        }
      ]
    },
    {
      "cell_type": "markdown",
      "source": [
        "11. What is the purpose of conditional statements in Python?\n",
        "\n",
        "      Ans: Conditional statements (if, elif, else) control the flow of a program by executing specific blocks of code based on whether conditions evaluate to True or False. They enable decision-making in programs, such as executing different logic based on user input or data."
      ],
      "metadata": {
        "id": "TAb8S1tjtGVM"
      }
    },
    {
      "cell_type": "code",
      "source": [
        "x = 2\n",
        "if x < 5:\n",
        "    print(\"Small\")\n",
        "elif x < 15:\n",
        "    print(\"Medium\")  # Prints \"Medium\"\n",
        "else:\n",
        "    print(\"Large\")"
      ],
      "metadata": {
        "colab": {
          "base_uri": "https://localhost:8080/"
        },
        "id": "1UwrMsxmstum",
        "outputId": "eb509447-eb1d-46ee-92af-57dd2ca2a98d"
      },
      "execution_count": null,
      "outputs": [
        {
          "output_type": "stream",
          "name": "stdout",
          "text": [
            "Small\n"
          ]
        }
      ]
    },
    {
      "cell_type": "markdown",
      "source": [
        "12. How does the elif statement work?\n",
        "\n",
        "      Ans: The elif (short for \"else if\") statement checks additional conditions if the preceding if or elif conditions are False. It’s used in a chain of conditions, and only the first True condition’s block is executed.\n"
      ],
      "metadata": {
        "id": "e9_ToERUuDHO"
      }
    },
    {
      "cell_type": "code",
      "source": [
        "x = 10\n",
        "if x < 5:\n",
        "    print(\"Small\")\n",
        "elif x < 15:\n",
        "    print(\"Medium\")  # Prints \"Medium\"\n",
        "else:\n",
        "    print(\"Large\")"
      ],
      "metadata": {
        "colab": {
          "base_uri": "https://localhost:8080/"
        },
        "id": "CaY_K9CnuBgq",
        "outputId": "e319563b-4f5a-4b78-f3f4-6efb8b881f93"
      },
      "execution_count": null,
      "outputs": [
        {
          "output_type": "stream",
          "name": "stdout",
          "text": [
            "Medium\n"
          ]
        }
      ]
    },
    {
      "cell_type": "markdown",
      "source": [
        "13. What is the difference between for and while loops?\n",
        "\n",
        "  Ans: For Loop: Iterates over a sequence (e.g., list, range, string) with a predefined number of iterations. Ideal when the number of iterations is known.\n",
        "\n",
        "  While Loop: Repeats as long as a condition is True. Suitable when the number of iterations is unknown.\n"
      ],
      "metadata": {
        "id": "ZMOmfurPwWhr"
      }
    },
    {
      "cell_type": "code",
      "source": [
        "print(\"for loop\")\n",
        "for i in range(5):\n",
        "    print(i)  # Prints 0 to 4\n",
        "\n",
        "print()\n",
        "print(\"While loop\")\n",
        "\n",
        "i = 0\n",
        "while i < 5:\n",
        "    print(i)  # Prints 0 to 4\n",
        "    i += 1"
      ],
      "metadata": {
        "colab": {
          "base_uri": "https://localhost:8080/"
        },
        "id": "FErBL-89wLKL",
        "outputId": "11935c08-6572-4165-f427-1159747a3a89"
      },
      "execution_count": null,
      "outputs": [
        {
          "output_type": "stream",
          "name": "stdout",
          "text": [
            "for loop\n",
            "0\n",
            "1\n",
            "2\n",
            "3\n",
            "4\n",
            "\n",
            "While loop\n",
            "0\n",
            "1\n",
            "2\n",
            "3\n",
            "4\n"
          ]
        }
      ]
    },
    {
      "cell_type": "markdown",
      "source": [
        "14. Describe a scenario where a while loop is more suitable than a for loop\n",
        "\n",
        "  Ans:A while loop is ideal when the number of iterations depends on a dynamic condition rather than a fixed sequence.\n",
        "  \n",
        "  Scenario: Prompting a user to enter a valid password until they succeed."
      ],
      "metadata": {
        "id": "X2bVLpEuw6yz"
      }
    },
    {
      "cell_type": "code",
      "source": [
        "password = \"\"\n",
        "while password != \"secret\":\n",
        "    password = input(\"Enter password: \")\n",
        "print(\"Access granted!\")"
      ],
      "metadata": {
        "colab": {
          "base_uri": "https://localhost:8080/"
        },
        "id": "kJ4eEv0Swpq4",
        "outputId": "166a7f25-4e2b-4907-f893-7df9aea23d5d"
      },
      "execution_count": null,
      "outputs": [
        {
          "output_type": "stream",
          "name": "stdout",
          "text": [
            "Enter password: abc@123\n",
            "Enter password: secret\n",
            "Access granted!\n"
          ]
        }
      ]
    },
    {
      "cell_type": "markdown",
      "source": [
        "**Practical Questions**"
      ],
      "metadata": {
        "id": "1Pl290R9JUOV"
      }
    },
    {
      "cell_type": "code",
      "source": [
        "# 1. Write a Python program to print \"Hello, World!\"\n",
        "print(\"Hello, World!\")"
      ],
      "metadata": {
        "id": "wVMmAk1gy9RU",
        "colab": {
          "base_uri": "https://localhost:8080/"
        },
        "outputId": "b8870f13-0a06-4fe2-9467-02d7770d8cea"
      },
      "execution_count": 1,
      "outputs": [
        {
          "output_type": "stream",
          "name": "stdout",
          "text": [
            "Hello, World!\n"
          ]
        }
      ]
    },
    {
      "cell_type": "code",
      "source": [
        "# 2. Write a Python program that displays your name and age.\n",
        "name = input(\"Enter your name: \")\n",
        "age = input(\"Enter your age: \")\n",
        "print(f\"MY name is {name} and your age is {age}.\")"
      ],
      "metadata": {
        "colab": {
          "base_uri": "https://localhost:8080/"
        },
        "id": "UJrvrpvSJkwI",
        "outputId": "1924a64b-31b5-4d9e-964a-f6a93a2019a1"
      },
      "execution_count": 3,
      "outputs": [
        {
          "output_type": "stream",
          "name": "stdout",
          "text": [
            "Enter your name: ABC\n",
            "Enter your age: 22\n",
            "MY name is ABC and your age is 22.\n"
          ]
        }
      ]
    },
    {
      "cell_type": "code",
      "source": [
        "# 3. Write code to print all the pre-defined keywords in Python using the keyword library.\n",
        "import keyword\n",
        "print(keyword.kwlist)"
      ],
      "metadata": {
        "colab": {
          "base_uri": "https://localhost:8080/"
        },
        "id": "BlC7WU50Jo2s",
        "outputId": "23212c59-8264-467a-b414-587e44c01aad"
      },
      "execution_count": 4,
      "outputs": [
        {
          "output_type": "stream",
          "name": "stdout",
          "text": [
            "['False', 'None', 'True', 'and', 'as', 'assert', 'async', 'await', 'break', 'class', 'continue', 'def', 'del', 'elif', 'else', 'except', 'finally', 'for', 'from', 'global', 'if', 'import', 'in', 'is', 'lambda', 'nonlocal', 'not', 'or', 'pass', 'raise', 'return', 'try', 'while', 'with', 'yield']\n"
          ]
        }
      ]
    },
    {
      "cell_type": "code",
      "source": [
        "# 4 . Write a program that checks if a given word is a Python keyword.\n",
        "import keyword\n",
        "n = int(input())\n",
        "while n > 0:\n",
        "    word = input(\"Give a keyword: \")\n",
        "    if keyword.iskeyword(word):\n",
        "        print(f\"{word} is a Python keyword.\")\n",
        "    else:\n",
        "        print(f\"{word} is not a Python keyword.\")\n",
        "        n = -1\n",
        "\n"
      ],
      "metadata": {
        "colab": {
          "base_uri": "https://localhost:8080/"
        },
        "id": "V3OYDrmLKC3a",
        "outputId": "82668a50-f077-4a67-b8ea-03330f9adbfc"
      },
      "execution_count": 9,
      "outputs": [
        {
          "output_type": "stream",
          "name": "stdout",
          "text": [
            "1\n",
            "Give a keyword: False\n",
            "False is a Python keyword.\n",
            "Give a keyword: fal\n",
            "fal is not a Python keyword.\n"
          ]
        }
      ]
    },
    {
      "cell_type": "code",
      "source": [
        "# 5 . Create a list and tuple in Python, and demonstrate how attempting to change an element works differently for each.\n",
        "\n",
        "\n",
        "li = [10, 20, 30]\n",
        "print(\"Original list:\", li)\n",
        "\n",
        "li[1] = 200\n",
        "print(\"Modified list:\", li)\n",
        "\n",
        "\n",
        "tup = (10, 20, 30)\n",
        "print(\"\\nOriginal tuple:\", tup)\n",
        "\n",
        "try:\n",
        "   tup[1] = 200\n",
        "except TypeError as e:\n",
        "    print(\"Error when modifying tuple:\", e)\n"
      ],
      "metadata": {
        "colab": {
          "base_uri": "https://localhost:8080/"
        },
        "id": "0MuLcnPsKr_N",
        "outputId": "8b5dd246-9b8a-425a-bde0-652f910ee91d"
      },
      "execution_count": 10,
      "outputs": [
        {
          "output_type": "stream",
          "name": "stdout",
          "text": [
            "Original list: [10, 20, 30]\n",
            "Modified list: [10, 200, 30]\n",
            "\n",
            "Original tuple: (10, 20, 30)\n",
            "Error when modifying tuple: 'tuple' object does not support item assignment\n"
          ]
        }
      ]
    },
    {
      "cell_type": "code",
      "source": [
        "# 6 . Write a function to demonstrate the behavior of mutable and immutable\n",
        "\n",
        "def demonstrate_mutability(mutable_obj, immutable_obj):\n",
        "\n",
        "  print(\"Original mutable object:\", mutable_obj)\n",
        "  mutable_obj.append(4)\n",
        "  print(\"Mutable object after modification:\", mutable_obj)\n",
        "\n",
        "  print(\"\\nOriginal immutable object:\", immutable_obj)\n",
        "  try:\n",
        "    immutable_obj[0] = 100\n",
        "  except TypeError as e:\n",
        "    print(\"Immutable object cannot be modified:\", e)\n",
        "  print(\"Immutable object after attempted modification:\", immutable_obj)\n",
        "\n",
        "\n",
        "# Example usage:\n",
        "my_list = [1, 2, 3]\n",
        "my_tuple = (1, 2, 3)\n",
        "\n",
        "demonstrate_mutability(my_list, my_tuple)"
      ],
      "metadata": {
        "colab": {
          "base_uri": "https://localhost:8080/"
        },
        "id": "wulv_TEJLAgT",
        "outputId": "9c8ba9da-1878-468b-837e-06518b1dee4c"
      },
      "execution_count": 11,
      "outputs": [
        {
          "output_type": "stream",
          "name": "stdout",
          "text": [
            "Original mutable object: [1, 2, 3]\n",
            "Mutable object after modification: [1, 2, 3, 4]\n",
            "\n",
            "Original immutable object: (1, 2, 3)\n",
            "Immutable object cannot be modified: 'tuple' object does not support item assignment\n",
            "Immutable object after attempted modification: (1, 2, 3)\n"
          ]
        }
      ]
    },
    {
      "cell_type": "code",
      "source": [
        "# 7 . Write a program that performs basic arithmetic operations on two user-input numbers.\n",
        "a = int(input(\"Enter first number: \"))\n",
        "b = int(input(\"Enter second number: \"))\n",
        "c = input(\"Enter the operation to perform (+, -, *, /, %): \")\n",
        "expression = f\"{a} {c} {b}\"\n",
        "result = eval(expression)\n",
        "\n",
        "print(f\"{a} {c} {b} = {result}\")"
      ],
      "metadata": {
        "colab": {
          "base_uri": "https://localhost:8080/"
        },
        "id": "9-_LSfftLq0D",
        "outputId": "21ffb5e1-d602-41b6-e238-ad6786e770ff"
      },
      "execution_count": 12,
      "outputs": [
        {
          "output_type": "stream",
          "name": "stdout",
          "text": [
            "Enter first number: 5\n",
            "Enter second number: 6\n",
            "Enter the operation to perform (+, -, *, /, %): *\n",
            "5 * 6 = 30\n"
          ]
        }
      ]
    },
    {
      "cell_type": "code",
      "source": [
        "# 8 . Write a program to demonstrate the use of logical operators.\n",
        "a = input()\n",
        "b = input()\n",
        "print( a and b)\n",
        "print(a or b)\n",
        "print(  not a , not b)"
      ],
      "metadata": {
        "colab": {
          "base_uri": "https://localhost:8080/"
        },
        "id": "sdY6fh0BMQ3-",
        "outputId": "64c0d893-f627-4867-d03a-7cc711a35640"
      },
      "execution_count": 16,
      "outputs": [
        {
          "output_type": "stream",
          "name": "stdout",
          "text": [
            "a\n",
            "b\n",
            "b\n",
            "a\n",
            "False False\n"
          ]
        }
      ]
    },
    {
      "cell_type": "code",
      "source": [
        "# 9 . Write a Python program to convert user input from string to integer, float, and boolean types.\n",
        "\n",
        "user_input = input(\"Enter a value: \")\n",
        "try:\n",
        "    int_value = int(user_input)\n",
        "    print(f\"Integer conversion: {int_value}\")\n",
        "except ValueError:\n",
        "    print(\"Cannot convert to Integer.\")\n",
        "try:\n",
        "    float_value = float(user_input)\n",
        "    print(f\"Float conversion: {float_value}\")\n",
        "except ValueError:\n",
        "    print(\"Cannot convert to Float.\")\n",
        "bool_value = bool(user_input)\n",
        "print(f\"Boolean conversion: {bool_value}\")\n"
      ],
      "metadata": {
        "colab": {
          "base_uri": "https://localhost:8080/"
        },
        "id": "LQLDTNGyMrNZ",
        "outputId": "680a17e3-0423-49e3-ff29-12e102438d34"
      },
      "execution_count": 22,
      "outputs": [
        {
          "output_type": "stream",
          "name": "stdout",
          "text": [
            "Enter a value: 6\n",
            "Integer conversion: 6\n",
            "Float conversion: 6.0\n",
            "Boolean conversion: True\n"
          ]
        }
      ]
    },
    {
      "cell_type": "code",
      "source": [
        "# 10 . Write code to demonstrate type casting with list elements.\n",
        "str_list = ['1', '2', '3.5', '4.0']\n",
        "int_list = []\n",
        "for item in str_list:\n",
        "    try:\n",
        "        int_list.append(int(float(item)))\n",
        "    except ValueError:\n",
        "        int_list.append(None)\n",
        "float_list = [float(item) for item in str_list]\n",
        "num_list = [1, 2, 3.5, 4]\n",
        "str_cast_list = [str(item) for item in num_list]\n",
        "print(\"Original string list:\", str_list)\n",
        "print(\"Casted to integers:   \", int_list)\n",
        "print(\"Casted to floats:     \", float_list)\n",
        "print(\"Numbers cast to str:  \", str_cast_list)\n"
      ],
      "metadata": {
        "colab": {
          "base_uri": "https://localhost:8080/"
        },
        "id": "wA04TC8kNfHz",
        "outputId": "1700548e-46c0-47b2-a7a2-54b38804dc64"
      },
      "execution_count": 23,
      "outputs": [
        {
          "output_type": "stream",
          "name": "stdout",
          "text": [
            "Original string list: ['1', '2', '3.5', '4.0']\n",
            "Casted to integers:    [1, 2, 3, 4]\n",
            "Casted to floats:      [1.0, 2.0, 3.5, 4.0]\n",
            "Numbers cast to str:   ['1', '2', '3.5', '4']\n"
          ]
        }
      ]
    },
    {
      "cell_type": "code",
      "source": [
        "# 11 . Write a program that checks if a number is positive, negative, or zero.\n",
        "n = int(input())\n",
        "if n > 0:\n",
        "    print(\"Positive\")\n",
        "elif n < 0:\n",
        "    print(\"Negative\")\n",
        "else:\n",
        "    print(\"Zero\")\n"
      ],
      "metadata": {
        "colab": {
          "base_uri": "https://localhost:8080/"
        },
        "id": "CHZ-gGePOAfc",
        "outputId": "47b3619d-69bd-46b7-9f81-4427b29ac606"
      },
      "execution_count": 24,
      "outputs": [
        {
          "output_type": "stream",
          "name": "stdout",
          "text": [
            "5\n",
            "Positive\n"
          ]
        }
      ]
    },
    {
      "cell_type": "code",
      "source": [
        "# 12 . Write a for loop to print numbers from 1 to 10.\n",
        "for i in range(1,11):\n",
        "    print(i)"
      ],
      "metadata": {
        "colab": {
          "base_uri": "https://localhost:8080/"
        },
        "id": "QV0SKd0_OUfK",
        "outputId": "e890754c-191f-45c6-f63e-a0bbb79d5065"
      },
      "execution_count": 27,
      "outputs": [
        {
          "output_type": "stream",
          "name": "stdout",
          "text": [
            "1\n",
            "2\n",
            "3\n",
            "4\n",
            "5\n",
            "6\n",
            "7\n",
            "8\n",
            "9\n",
            "10\n"
          ]
        }
      ]
    },
    {
      "cell_type": "code",
      "source": [
        "# 13 . Write a Python program to find the sum of all even numbers between 1 and 50.\n",
        "def is_even(num):\n",
        "    return num % 2 == 0\n",
        "sum_even = sum(filter(is_even, range(1, 51)))\n",
        "print(\"Sum of even numbers between 1 and 50:\", sum_even)"
      ],
      "metadata": {
        "colab": {
          "base_uri": "https://localhost:8080/"
        },
        "id": "wjdEWM3COfIY",
        "outputId": "cf850e56-fb80-4207-f245-ef674e4d2185"
      },
      "execution_count": 31,
      "outputs": [
        {
          "output_type": "stream",
          "name": "stdout",
          "text": [
            "Sum of even numbers between 1 and 50: 650\n"
          ]
        }
      ]
    },
    {
      "cell_type": "code",
      "source": [
        "# 14 . Write a program to reverse a string using a while loop.\n",
        "def reverse_string(input_string):\n",
        "\n",
        "    start = 0\n",
        "    end = len(input_string) - 1\n",
        "    input_string = list(input_string)\n",
        "    while start <= end:\n",
        "        input_string[start], input_string[end] = input_string[end], input_string[start]\n",
        "        start += 1\n",
        "        end -= 1\n",
        "    return ''.join(input_string)\n",
        "\n",
        "print(reverse_string(input()))"
      ],
      "metadata": {
        "colab": {
          "base_uri": "https://localhost:8080/"
        },
        "id": "yvH_JwWBOt9-",
        "outputId": "4e3385fe-b512-48ed-f49b-fec97e41da6b"
      },
      "execution_count": 38,
      "outputs": [
        {
          "output_type": "stream",
          "name": "stdout",
          "text": [
            "abc\n",
            "cba\n"
          ]
        }
      ]
    },
    {
      "cell_type": "code",
      "source": [
        "# 15 . Write a Python program to calculate the factorial of a number provided by the user using a while loop.\n",
        "\n",
        "n = int(input())\n",
        "if n == 0:\n",
        "  print(1)\n",
        "fac = 1\n",
        "while( n > 0):\n",
        "  fac *= n\n",
        "  n -= 1\n",
        "print(fac)"
      ],
      "metadata": {
        "colab": {
          "base_uri": "https://localhost:8080/"
        },
        "id": "--j__fg9PLkL",
        "outputId": "a99b940e-e3b3-4007-df2e-80b0b2c07684"
      },
      "execution_count": 41,
      "outputs": [
        {
          "output_type": "stream",
          "name": "stdout",
          "text": [
            "4\n",
            "24\n"
          ]
        }
      ]
    }
  ]
}